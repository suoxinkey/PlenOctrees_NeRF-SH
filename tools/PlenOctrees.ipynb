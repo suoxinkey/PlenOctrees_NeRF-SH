{
 "cells": [
  {
   "cell_type": "code",
   "execution_count": 1,
   "metadata": {},
   "outputs": [],
   "source": [
    "import argparse\n",
    "import os\n",
    "import sys\n",
    "from os import mkdir\n",
    "from apex import amp\n",
    "import shutil\n",
    "\n",
    "\n",
    "\n",
    "import torch.nn.functional as F\n",
    "\n",
    "sys.path.append('..')\n",
    "from config import cfg\n",
    "from data import make_data_loader, make_data_loader_view\n",
    "from engine.trainer import do_train\n",
    "from modeling import build_model\n",
    "from solver import make_optimizer, WarmupMultiStepLR,build_scheduler\n",
    "from layers import make_loss\n",
    "\n",
    "from utils.logger import setup_logger\n",
    "\n",
    "\n",
    "from torch.utils.tensorboard import SummaryWriter\n",
    "import torch\n",
    "from layers.RaySamplePoint import RaySamplePoint\n",
    "from engine import render\n",
    "import numpy as np \n",
    "torch.cuda.set_device(2)\n",
    "import matplotlib.pyplot as plt\n",
    "import cv2\n",
    "from tqdm.notebook import trange, tqdm\n",
    "from imageio_ffmpeg import write_frames\n",
    "import trimesh"
   ]
  },
  {
   "cell_type": "code",
   "execution_count": 2,
   "metadata": {},
   "outputs": [],
   "source": [
    "def vis_density(model, maxs, mins, L= 32):\n",
    "    \n",
    "#     maxs = (np.array([1.0, 1.0, 1.0]) - np.array([0.4938117, 0.5103138,0.39479887]))/np.array([0.3771917,0.3771917,0.3771917])\n",
    "#     mins = (np.array([0.0, 0.0, 0.0]) - np.array([0.4938117, 0.5103138,0.39479887]))/np.array([0.3771917,0.3771917,0.3771917])\n",
    "    \n",
    "    x = torch.linspace(mins[0],maxs[0],steps=L).cuda()\n",
    "    y = torch.linspace(mins[1],maxs[1],steps=L).cuda()\n",
    "    z = torch.linspace(mins[2],maxs[2],steps=L).cuda()\n",
    "    grid_x ,grid_y,grid_z = torch.meshgrid(x, y,z)\n",
    "    xyz = torch.stack([grid_x ,grid_y,grid_z], dim = -1)  #(L,L,L,3)\n",
    "\n",
    "    xyz = xyz.reshape((-1,3)) #(L*L*L,3)\n",
    "\n",
    "    xyzs = xyz.split(5000, dim=0)\n",
    "\n",
    "    sigmas = []\n",
    "    coeffs = []\n",
    "    for i in xyzs:\n",
    "        with torch.no_grad():\n",
    "            _,density, coeff = model.spacenet_fine(i, None) #(L*L*L,1)\n",
    "            density = torch.nn.functional.relu(density)\n",
    "            sigmas.append(density.detach().cpu())\n",
    "            coeffs.append(coeff.detach().cpu())\n",
    "            \n",
    "    sigmas = torch.cat(sigmas, dim=0)\n",
    "    coeffs = torch.cat(coeffs, dim=0)\n",
    "\n",
    "    return sigmas, coeffs"
   ]
  },
  {
   "cell_type": "code",
   "execution_count": 3,
   "metadata": {},
   "outputs": [],
   "source": [
    "training_folder = '/data/new_disk/suoxin/output/lego_sh5'\n",
    "epoch = 208000\n",
    "para_file = 'rfnr_checkpoint_%d.pt' % epoch"
   ]
  },
  {
   "cell_type": "code",
   "execution_count": null,
   "metadata": {},
   "outputs": [],
   "source": []
  },
  {
   "cell_type": "code",
   "execution_count": 4,
   "metadata": {},
   "outputs": [],
   "source": [
    "cfg.merge_from_file(os.path.join(training_folder,'configs.yml'))\n",
    "cfg.freeze()"
   ]
  },
  {
   "cell_type": "code",
   "execution_count": 5,
   "metadata": {},
   "outputs": [
    {
     "name": "stdout",
     "output_type": "stream",
     "text": [
      "0 / 1\n",
      "load 100 Ts, 100 Ks, 1 frame, 421230 vertices\n",
      "dataset initialed. near: 2.000000  far: 6.000000\n",
      "0 / 1\n",
      "load 100 Ts, 100 Ks, 1 frame, 421230 vertices\n",
      "dataset initialed. near: 2.000000  far: 6.000000\n",
      "load 16000000 rays.\n"
     ]
    }
   ],
   "source": [
    "val_loader, dataset_val = make_data_loader_view(cfg, is_train=False)\n",
    "train_loader, dataset = make_data_loader(cfg, is_train=True)"
   ]
  },
  {
   "cell_type": "code",
   "execution_count": 6,
   "metadata": {},
   "outputs": [],
   "source": [
    "model = build_model(cfg).cuda()\n",
    "model.load_state_dict(torch.load(os.path.join(training_folder,para_file),map_location='cpu')['model'])\n",
    "model.eval()\n",
    "model.cuda()\n",
    "pass"
   ]
  },
  {
   "cell_type": "code",
   "execution_count": 7,
   "metadata": {},
   "outputs": [],
   "source": [
    "maxs = (np.array([1.0, 1.0, 1.0]) - np.array([0.4938117, 0.5103138,0.39479887]))/np.array([0.3771917,0.3771917,0.3771917])\n",
    "mins = (np.array([0.0, 0.0, 0.0]) - np.array([0.4938117, 0.5103138,0.39479887]))/np.array([0.3771917,0.3771917,0.3771917])"
   ]
  },
  {
   "cell_type": "code",
   "execution_count": 8,
   "metadata": {},
   "outputs": [],
   "source": [
    "L = 256\n",
    "sigma, coeffs = vis_density(model, maxs, mins, L)"
   ]
  },
  {
   "cell_type": "code",
   "execution_count": 93,
   "metadata": {},
   "outputs": [],
   "source": []
  },
  {
   "cell_type": "code",
   "execution_count": 9,
   "metadata": {},
   "outputs": [],
   "source": [
    "class TreeNode:\n",
    "    def __init__(self, flag=0, xyz = (0,0,0)):\n",
    "        self.node_list = None\n",
    "        self.xyz = xyz\n",
    "        self.flag = flag\n",
    "\n",
    "global grid\n",
    "\n",
    "def gen_octree(x, y, z, size):\n",
    "    \n",
    "    \n",
    "    if(size<=2):\n",
    "        node_list = []\n",
    "        flag=False\n",
    "        for i in range(x, x+2):\n",
    "            for j in range(y, y+2):\n",
    "                for k in range(z, z+2):\n",
    "                    node_list.append(TreeNode(flag=0, xyz = (i,j,k)))\n",
    "                    if(grid[i,j,k]):\n",
    "                        flag = True\n",
    "        \n",
    "        node = TreeNode(1, (x+size//2, y+size//2, z+size//2))\n",
    "        if(flag==True):\n",
    "            node.node_list = node_list\n",
    "        else:\n",
    "            node.node_list = None\n",
    "            node.flag=0\n",
    "        return flag, node\n",
    "\n",
    "    flag = False\n",
    "    node_list = []\n",
    "    \n",
    "    cnt=1\n",
    "    for i in range(x, x+size, size//2):\n",
    "        for j in range(y, y+size, size//2):\n",
    "            for k in range(z, z+size, size//2):\n",
    "                _flag, node = gen_octree(i, j, k, size//2)\n",
    "                \n",
    "                node_list.append(node)\n",
    "                if(_flag==True):\n",
    "                    flag = _flag\n",
    "                cnt+=1\n",
    "    \n",
    "    node = TreeNode(1, (x+size//2, y+size//2, z+size//2))\n",
    "    if(flag):\n",
    "        node.node_list = node_list\n",
    "    else:\n",
    "        node.flag=0\n",
    "    \n",
    "    return flag, node\n",
    "\n",
    "grid = sigma.reshape((L, L, L))>0.1\n",
    "flag, node = gen_octree(0,0,0,L)\n"
   ]
  },
  {
   "cell_type": "code",
   "execution_count": 10,
   "metadata": {},
   "outputs": [
    {
     "name": "stdout",
     "output_type": "stream",
     "text": [
      "8\n"
     ]
    }
   ],
   "source": [
    "def get_depth(node, max_cnt, cur_cnt):\n",
    "    if(node.flag==0):\n",
    "        max_cnt = max(max_cnt, cur_cnt)\n",
    "        return max_cnt\n",
    "    else:\n",
    "        cnt_tmp =0\n",
    "        for i in range(len(node.node_list)):\n",
    "            cnt_tmp = max(cnt_tmp, get_depth(node.node_list[i], max_cnt, cur_cnt+1))\n",
    "        \n",
    "        max_cnt = max(max_cnt, cnt_tmp)\n",
    "        \n",
    "        return max_cnt\n",
    "    \n",
    "print(get_depth(node, 0, 0))    \n",
    "    "
   ]
  },
  {
   "cell_type": "code",
   "execution_count": 11,
   "metadata": {},
   "outputs": [],
   "source": [
    "import queue\n",
    "def BFS(node, coeffs):\n",
    "    q = queue.Queue()\n",
    "    cnt_q = queue.Queue()\n",
    "    q.put(node)\n",
    "    cnt_q.put(0)\n",
    "    cnt=1\n",
    "    total_cnt=0\n",
    "    child = []\n",
    "    density_coeff = []\n",
    "    while(not q.empty()):\n",
    "        cnt_tmp = cnt\n",
    "        cnt = 0\n",
    "        for i in range(cnt_tmp):\n",
    "            node = q.get()\n",
    "            cnt_num = cnt_q.get()\n",
    "            \n",
    "            for j in range(len(node.node_list)):\n",
    "                xyz = node.node_list[j].xyz\n",
    "                \n",
    "                density_coeff.append(coeffs[xyz[0], xyz[1], xyz[2]])\n",
    "                if(node.node_list[j].flag==1):\n",
    "                    total_cnt+=1\n",
    "                    q.put(node.node_list[j])\n",
    "                    cnt_q.put(total_cnt)\n",
    "                    child.append(total_cnt - cnt_num)\n",
    "                    cnt += 1\n",
    "                else:\n",
    "                    child.append(0)\n",
    "                    \n",
    "    child = np.array(child).reshape((-1,2,2,2))\n",
    "    density_coeff = np.array(density_coeff)\n",
    "    density_coeff = density_coeff.reshape((-1,2,2,2,28))\n",
    "    return child, density_coeff"
   ]
  },
  {
   "cell_type": "code",
   "execution_count": 12,
   "metadata": {},
   "outputs": [],
   "source": [
    "coeffs = coeffs.reshape((L, L, L, 28)).cpu().numpy()"
   ]
  },
  {
   "cell_type": "code",
   "execution_count": 15,
   "metadata": {},
   "outputs": [],
   "source": [
    "\n",
    "child, density_coeff = BFS(node, coeffs)    \n",
    "data = {}\n",
    "data['invradius3'] = np.array([0.3771917, 0.3771917, 0.3771917]).astype(np.float32)\n",
    "data['offset'] = np.array([0.4938117,  0.5103138,  0.39479887]).astype(np.float32)\n",
    "data['data_format'] = \"SH9\"\n",
    "data['data_dim'] = 28\n",
    "data['child'] = child.astype(np.float32)\n",
    "\n",
    "\n",
    "density_coeff1 = density_coeff[:,:,:,:, 1:28].reshape((-1, 2,2,2,9, 3))\n",
    "density_coeff1 = np.concatenate((density_coeff1[:,:,:,:,:,0],density_coeff1[:,:,:,:,:,1],density_coeff1[:,:,:,:,:,2]), axis=4)\n",
    "data['data'] = np.concatenate((density_coeff1, density_coeff[:,:,:,:, 0:1].reshape((density_coeff.shape[0], density_coeff.shape[1], density_coeff.shape[2], density_coeff.shape[3], 1))), axis=4)\n",
    "\n",
    "np.savez('./lego3.npz', invradius3 = data['invradius3'], offset = data['offset'], data_format = data['data_format'], data_dim = data['data_dim'], child = data['child'].astype(np.int32), data = data['data'].astype(np.float16))   "
   ]
  },
  {
   "cell_type": "code",
   "execution_count": null,
   "metadata": {},
   "outputs": [],
   "source": []
  }
 ],
 "metadata": {
  "kernelspec": {
   "display_name": "Python 3",
   "language": "python",
   "name": "python3"
  },
  "language_info": {
   "codemirror_mode": {
    "name": "ipython",
    "version": 3
   },
   "file_extension": ".py",
   "mimetype": "text/x-python",
   "name": "python",
   "nbconvert_exporter": "python",
   "pygments_lexer": "ipython3",
   "version": "3.8.5"
  }
 },
 "nbformat": 4,
 "nbformat_minor": 4
}
