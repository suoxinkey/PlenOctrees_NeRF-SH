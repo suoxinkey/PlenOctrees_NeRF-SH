{
 "cells": [
  {
   "cell_type": "code",
   "execution_count": null,
   "metadata": {},
   "outputs": [],
   "source": [
    "import argparse\n",
    "import os\n",
    "import sys\n",
    "from os import mkdir\n",
    "from apex import amp\n",
    "import shutil\n",
    "\n",
    "\n",
    "\n",
    "import torch.nn.functional as F\n",
    "\n",
    "sys.path.append('..')\n",
    "from config import cfg\n",
    "from data import make_data_loader, make_data_loader_view\n",
    "from engine.trainer import do_train\n",
    "from modeling import build_model\n",
    "from solver import make_optimizer, WarmupMultiStepLR,build_scheduler\n",
    "from layers import make_loss\n",
    "\n",
    "from utils.logger import setup_logger\n",
    "\n",
    "#from utils import vis_density\n",
    "\n",
    "from torch.utils.tensorboard import SummaryWriter\n",
    "import torch\n",
    "from layers.RaySamplePoint import RaySamplePoint\n",
    "from engine import render\n",
    "import numpy as np \n",
    "torch.cuda.set_device(2)\n",
    "import matplotlib.pyplot as plt\n",
    "import cv2\n",
    "from tqdm.notebook import trange, tqdm\n",
    "from imageio_ffmpeg import write_frames\n",
    "import trimesh"
   ]
  },
  {
   "cell_type": "code",
   "execution_count": null,
   "metadata": {},
   "outputs": [],
   "source": [
    "def vis_density(model,bbox, L= 32):\n",
    "\n",
    "    maxs = torch.max(bbox, dim=0).values\n",
    "    mins = torch.min(bbox, dim=0).values\n",
    "\n",
    "\n",
    "    x = torch.linspace(mins[0],maxs[0],steps=L).cuda()\n",
    "    y = torch.linspace(mins[1],maxs[1],steps=L).cuda()\n",
    "    z = torch.linspace(mins[2],maxs[2],steps=L).cuda()\n",
    "    grid_x ,grid_y,grid_z = torch.meshgrid(x, y,z)\n",
    "    xyz = torch.stack([grid_x ,grid_y,grid_z], dim = -1)  #(L,L,L,3)\n",
    "\n",
    "    xyz = xyz.reshape((-1,3)) #(L*L*L,3)\n",
    "\n",
    "\n",
    "    xyzs = xyz.split(5000, dim=0)\n",
    "\n",
    "    sigmas = []\n",
    "    for i in xyzs:\n",
    "        with torch.no_grad():\n",
    "            _,density = model.spacenet_fine(i, None, model.maxs, model.mins) #(L*L*L,1)\n",
    "            density = torch.nn.functional.relu(density)\n",
    "            sigmas.append(density.detach().cpu())\n",
    "\n",
    "    sigmas = torch.cat(sigmas, dim=0)\n",
    "\n",
    "    return sigmas"
   ]
  },
  {
   "cell_type": "code",
   "execution_count": null,
   "metadata": {},
   "outputs": [],
   "source": [
    "training_folder = '/data/wmy/NR/RF_training/xzq_single'\n",
    "epoch = 834000\n",
    "para_file = 'rfnr_model_%d.pth' % epoch"
   ]
  },
  {
   "cell_type": "code",
   "execution_count": null,
   "metadata": {},
   "outputs": [],
   "source": [
    "training_folder = '/data/wmy/NR/RF_training/plant'\n",
    "epoch = 714000\n",
    "para_file = 'rfnr_model_%d.pth' % epoch"
   ]
  },
  {
   "cell_type": "code",
   "execution_count": null,
   "metadata": {},
   "outputs": [],
   "source": [
    "cfg.merge_from_file(os.path.join(training_folder,'configs.yml'))\n",
    "cfg.MODEL.BOARDER_WEIGHT = 1e-10\n",
    "cfg.freeze()"
   ]
  },
  {
   "cell_type": "code",
   "execution_count": null,
   "metadata": {},
   "outputs": [],
   "source": [
    "val_loader, dataset_val = make_data_loader_view(cfg, is_train=False)\n",
    "train_loader, dataset = make_data_loader(cfg, is_train=True)"
   ]
  },
  {
   "cell_type": "code",
   "execution_count": null,
   "metadata": {},
   "outputs": [],
   "source": [
    "model = build_model(cfg).cuda()\n",
    "model.load_state_dict(torch.load(os.path.join(training_folder,para_file),map_location='cpu'))\n",
    "model.eval()\n",
    "model.cuda()\n",
    "pass"
   ]
  },
  {
   "cell_type": "code",
   "execution_count": null,
   "metadata": {},
   "outputs": [],
   "source": [
    "dataset.bbox[0]"
   ]
  },
  {
   "cell_type": "code",
   "execution_count": null,
   "metadata": {},
   "outputs": [],
   "source": [
    "L = 512\n",
    "sigma = vis_density(model, dataset.bbox[0], L)"
   ]
  },
  {
   "cell_type": "code",
   "execution_count": null,
   "metadata": {},
   "outputs": [],
   "source": [
    "raw = sigma.detach().cpu().numpy()\n",
    "raw = np.reshape(raw, (L,L,L,-1))\n",
    "sigma = np.maximum(raw[...,-1], 0.)\n",
    "\n",
    "print(raw.shape)\n",
    "plt.hist(np.maximum(0,sigma.ravel()), log=True)\n",
    "plt.show()"
   ]
  },
  {
   "cell_type": "code",
   "execution_count": null,
   "metadata": {},
   "outputs": [],
   "source": [
    "import mcubes\n",
    "\n",
    "threshold = 50.\n",
    "print('fraction occupied', np.mean(sigma > threshold))\n",
    "vertices, triangles = mcubes.marching_cubes(sigma, threshold)\n",
    "print('done', vertices.shape, triangles.shape)"
   ]
  },
  {
   "cell_type": "code",
   "execution_count": null,
   "metadata": {},
   "outputs": [],
   "source": [
    "maxs = torch.max(dataset.bbox[0], dim=0).values.numpy()\n",
    "mins = torch.min(dataset.bbox[0], dim=0).values.numpy()"
   ]
  },
  {
   "cell_type": "code",
   "execution_count": null,
   "metadata": {},
   "outputs": [],
   "source": [
    "vertices_n = vertices / L\n",
    "for i in range(3):\n",
    "    vertices_n[:,i] = vertices_n[:,i]*(maxs[i]-mins[i]) + mins[i]"
   ]
  },
  {
   "cell_type": "code",
   "execution_count": null,
   "metadata": {},
   "outputs": [],
   "source": [
    "mesh = trimesh.Trimesh(vertices_n , triangles)\n",
    "mesh.show()"
   ]
  },
  {
   "cell_type": "code",
   "execution_count": null,
   "metadata": {},
   "outputs": [],
   "source": [
    "export = mesh.export(file_type='obj')"
   ]
  },
  {
   "cell_type": "code",
   "execution_count": null,
   "metadata": {},
   "outputs": [],
   "source": [
    "with open('xzq.obj','w') as f:\n",
    "    f.write(export)"
   ]
  },
  {
   "cell_type": "code",
   "execution_count": null,
   "metadata": {},
   "outputs": [],
   "source": [
    "print(vertices/L)"
   ]
  },
  {
   "cell_type": "code",
   "execution_count": null,
   "metadata": {},
   "outputs": [],
   "source": []
  }
 ],
 "metadata": {
  "kernelspec": {
   "display_name": "Python 3",
   "language": "python",
   "name": "python3"
  },
  "language_info": {
   "codemirror_mode": {
    "name": "ipython",
    "version": 3
   },
   "file_extension": ".py",
   "mimetype": "text/x-python",
   "name": "python",
   "nbconvert_exporter": "python",
   "pygments_lexer": "ipython3",
   "version": "3.6.8"
  }
 },
 "nbformat": 4,
 "nbformat_minor": 4
}
