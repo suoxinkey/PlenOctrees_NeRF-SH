{
 "cells": [
  {
   "cell_type": "code",
   "execution_count": null,
   "metadata": {},
   "outputs": [],
   "source": [
    "import argparse\n",
    "import os\n",
    "import sys\n",
    "from os import mkdir\n",
    "from apex import amp\n",
    "import shutil\n",
    "\n",
    "\n",
    "\n",
    "import torch.nn.functional as F\n",
    "\n",
    "sys.path.append('..')\n",
    "from config import cfg\n",
    "from data import make_data_loader, make_data_loader_view\n",
    "from engine.trainer import do_train\n",
    "from modeling import build_model\n",
    "from solver import make_optimizer, WarmupMultiStepLR,build_scheduler\n",
    "from layers import make_loss\n",
    "\n",
    "from utils.logger import setup_logger\n",
    "\n",
    "from torch.utils.tensorboard import SummaryWriter\n",
    "import torch\n",
    "from layers.RaySamplePoint import RaySamplePoint\n",
    "from engine import render\n",
    "import numpy as np \n",
    "torch.cuda.set_device(2)\n",
    "import matplotlib.pyplot as plt\n",
    "import cv2\n",
    "from tqdm.notebook import trange, tqdm\n",
    "from imageio_ffmpeg import write_frames\n"
   ]
  },
  {
   "cell_type": "code",
   "execution_count": null,
   "metadata": {},
   "outputs": [],
   "source": [
    "training_folder = '/data/wmy/NR/RF_training/xzq_single'\n",
    "epoch = 861000\n",
    "para_file = 'rfnr_model_%d.pth' % epoch"
   ]
  },
  {
   "cell_type": "code",
   "execution_count": null,
   "metadata": {},
   "outputs": [],
   "source": [
    "cfg.merge_from_file(os.path.join(training_folder,'configs.yml'))\n",
    "cfg.MODEL.BOARDER_WEIGHT = 1e-10\n",
    "cfg.freeze()"
   ]
  },
  {
   "cell_type": "code",
   "execution_count": null,
   "metadata": {},
   "outputs": [],
   "source": [
    "val_loader, dataset_val = make_data_loader_view(cfg, is_train=False)\n",
    "train_loader, dataset = make_data_loader(cfg, is_train=True)"
   ]
  },
  {
   "cell_type": "code",
   "execution_count": null,
   "metadata": {},
   "outputs": [],
   "source": [
    "model = build_model(cfg).cuda()\n",
    "model.load_state_dict(torch.load(os.path.join(training_folder,para_file),map_location='cpu'))\n",
    "model.eval()\n",
    "pass"
   ]
  },
  {
   "cell_type": "code",
   "execution_count": null,
   "metadata": {},
   "outputs": [],
   "source": []
  }
 ],
 "metadata": {
  "kernelspec": {
   "display_name": "Python 3",
   "language": "python",
   "name": "python3"
  },
  "language_info": {
   "codemirror_mode": {
    "name": "ipython",
    "version": 3
   },
   "file_extension": ".py",
   "mimetype": "text/x-python",
   "name": "python",
   "nbconvert_exporter": "python",
   "pygments_lexer": "ipython3",
   "version": "3.6.8"
  }
 },
 "nbformat": 4,
 "nbformat_minor": 4
}
