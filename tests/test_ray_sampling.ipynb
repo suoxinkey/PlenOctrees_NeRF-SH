{
 "cells": [
  {
   "cell_type": "code",
   "execution_count": 11,
   "metadata": {},
   "outputs": [],
   "source": [
    "import torch\n",
    "import sys\n",
    "sys.path.append('..')\n",
    "\n",
    "from utils import ray_sampling\n",
    "from matplotlib import pyplot as plt"
   ]
  },
  {
   "cell_type": "code",
   "execution_count": 7,
   "metadata": {},
   "outputs": [
    {
     "name": "stdout",
     "output_type": "stream",
     "text": [
      "torch.cuda.FloatTensor\n"
     ]
    }
   ],
   "source": [
    "Ks = torch.tensor( [[750.,0,1000],[0,750,1000],[0,0,1]] ).unsqueeze(0).cuda()\n",
    "Ts = torch.tensor( [[1.,0,0,0],[0,1,0,0],[0,0,1,0],[0,0,0,1]] ).unsqueeze(0).cuda()\n",
    "image_size = (2000,2000)\n",
    "\n",
    "Ks = Ks.type(dtype=torch.float)\n",
    "\n",
    "print(Ks.type())"
   ]
  },
  {
   "cell_type": "code",
   "execution_count": 17,
   "metadata": {},
   "outputs": [],
   "source": [
    "rays,rgbs = ray_sampling(Ks,Ts,image_size)"
   ]
  },
  {
   "cell_type": "code",
   "execution_count": 18,
   "metadata": {},
   "outputs": [
    {
     "name": "stdout",
     "output_type": "stream",
     "text": [
      "tensor([[-0.6247, -0.6247,  0.4685,  0.0000,  0.0000,  0.0000],\n",
      "        [-0.6249, -0.6243,  0.4687,  0.0000,  0.0000,  0.0000],\n",
      "        [-0.6252, -0.6239,  0.4689,  0.0000,  0.0000,  0.0000],\n",
      "        ...,\n",
      "        [ 0.6250,  0.6238,  0.4693,  0.0000,  0.0000,  0.0000],\n",
      "        [ 0.6248,  0.6242,  0.4691,  0.0000,  0.0000,  0.0000],\n",
      "        [ 0.6246,  0.6246,  0.4689,  0.0000,  0.0000,  0.0000]],\n",
      "       device='cuda:0')\n"
     ]
    }
   ],
   "source": [
    "print(rays)"
   ]
  },
  {
   "cell_type": "code",
   "execution_count": null,
   "metadata": {},
   "outputs": [],
   "source": []
  }
 ],
 "metadata": {
  "kernelspec": {
   "display_name": "Python 3",
   "language": "python",
   "name": "python3"
  },
  "language_info": {
   "codemirror_mode": {
    "name": "ipython",
    "version": 3
   },
   "file_extension": ".py",
   "mimetype": "text/x-python",
   "name": "python",
   "nbconvert_exporter": "python",
   "pygments_lexer": "ipython3",
   "version": "3.6.8"
  }
 },
 "nbformat": 4,
 "nbformat_minor": 4
}
